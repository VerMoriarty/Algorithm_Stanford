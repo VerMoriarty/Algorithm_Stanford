{
 "cells": [
  {
   "cell_type": "markdown",
   "metadata": {},
   "source": [
    "## Programming Assignment 3"
   ]
  },
  {
   "cell_type": "markdown",
   "metadata": {},
   "source": [
    "Download the following text file (right click and select \"Save As...\"): kargerMinCut.txt\n",
    "\n",
    "The file contains the adjacency list representation of a simple undirected graph. There are 200 vertices labeled 1 to 200. The first column in the file represents the vertex label, and the particular row (other entries except the first column) tells all the vertices that the vertex is adjacent to. So for example, the 6th row looks like : \"6\t155\t56\t52\t120 ......\". This just means that the vertex with label 6 is adjacent to (i.e., shares an edge with) the vertices with labels 155,56,52,120,......,etc\n",
    "\n",
    "Your task is to code up and run the randomized contraction algorithm for the min cut problem and use it on the above graph to compute the min cut. (HINT: Note that you'll have to figure out an implementation of edge contractions. Initially, you might want to do this naively, creating a new graph from the old every time there's an edge contraction. But you should also think about more efficient implementations.) (WARNING: As per the video lectures, please make sure to run the algorithm many times with different random seeds, and remember the smallest cut that you ever find.) Write your numeric answer in the space provided. So e.g., if your answer is 5, just type 5 in the space provided."
   ]
  },
  {
   "cell_type": "markdown",
   "metadata": {},
   "source": [
    "## 要点回顾：\n",
    "+ 时间复杂度 $\\Omega(n^2m)$.\n",
    "+ 重复试验的次数超过 $n^2\\ln n$.\n",
    "+ "
   ]
  },
  {
   "cell_type": "markdown",
   "metadata": {},
   "source": [
    "参考资料：https://blog.csdn.net/yuli_dai/article/details/9720933"
   ]
  },
  {
   "cell_type": "code",
   "execution_count": 1,
   "metadata": {},
   "outputs": [
    {
     "name": "stderr",
     "output_type": "stream",
     "text": [
      "C:\\Users\\89487\\Anaconda3\\lib\\site-packages\\ipykernel_launcher.py:31: DeprecationWarning: time.clock has been deprecated in Python 3.3 and will be removed from Python 3.8: use time.perf_counter or time.process_time instead\n"
     ]
    },
    {
     "name": "stdout",
     "output_type": "stream",
     "text": [
      "17\n",
      "449.6039704519999\n"
     ]
    },
    {
     "name": "stderr",
     "output_type": "stream",
     "text": [
      "C:\\Users\\89487\\Anaconda3\\lib\\site-packages\\ipykernel_launcher.py:37: DeprecationWarning: time.clock has been deprecated in Python 3.3 and will be removed from Python 3.8: use time.perf_counter or time.process_time instead\n"
     ]
    }
   ],
   "source": [
    "import random\n",
    "import copy\n",
    "import time\n",
    " \n",
    "def contract(ver, e): \n",
    "    while len(ver) > 2: #create a new graph every time (not efficient)\n",
    "        ind = random.randrange(0, len(e))      \n",
    "        [u, v] = e.pop(ind)   #pick a edge randomly\n",
    "        ver.remove(v)    #remove v from vertices\n",
    "        newEdge = list()\n",
    "        for i in range(len(e)):\n",
    "            if e[i][0] == v: e[i][0] = u\n",
    "            elif e[i][1] == v: e[i][1] = u\n",
    "            if e[i][0] != e[i][1]: newEdge.append(e[i])   # remove self-loops\n",
    "        e = newEdge\n",
    "    return(len(e))  #return the number of the remained edges \n",
    " \n",
    "if __name__ == '__main__':\n",
    "    f = open('kargerMinCut.txt')\n",
    "    _f = list(f) \n",
    "    edges = list()          #initialize vertices and edges\n",
    "    vertices = list()\n",
    "    for i in range(len(_f)):     #got 2517 different edges\n",
    "        s = _f[i].split()\n",
    "        vertices.append(int(s[0]))\n",
    "        for j in range(1, len(s)):\n",
    "            if [int(s[j]), int(s[0])] not in edges:\n",
    "                edges.append([int(s[0]), int(s[j])])  \n",
    " \n",
    "    result = list()\n",
    "    starttime = time.clock() \n",
    "    for i in range(2000):  #we take n^2logn times so that the Pr(allfail) <= 1/n where n is the number of vertics\n",
    "        v = copy.deepcopy(vertices)   #notice: deepcopy\n",
    "        e = copy.deepcopy(edges)\n",
    "        r = contract(v, e)\n",
    "        result.append(r)\n",
    "    endtime = time.clock()\n",
    "    #print(result)\n",
    "    print(min(result))\n",
    "    print(endtime - starttime)"
   ]
  },
  {
   "cell_type": "markdown",
   "metadata": {},
   "source": [
    "先举课堂上给的例子："
   ]
  },
  {
   "cell_type": "code",
   "execution_count": 50,
   "metadata": {},
   "outputs": [],
   "source": [
    "# 注意这里是我们图的存储方式：G 是图的字典表示，键是顶点，值是列表表示所有与该顶点相连接的顶点\n",
    "G = {1:[2,3], 2:[1,3,4], 3:[1,2,4], 4:[2,3]}"
   ]
  },
  {
   "cell_type": "markdown",
   "metadata": {},
   "source": [
    "第一种合并方式："
   ]
  },
  {
   "cell_type": "code",
   "execution_count": 94,
   "metadata": {},
   "outputs": [
    {
     "data": {
      "text/plain": [
       "{1: [2, 2, 4], 2: [1, 1, 4], 4: [2, 1]}"
      ]
     },
     "execution_count": 94,
     "metadata": {},
     "output_type": "execute_result"
    }
   ],
   "source": [
    "merge(G, 1, 3)"
   ]
  },
  {
   "cell_type": "code",
   "execution_count": 95,
   "metadata": {},
   "outputs": [
    {
     "data": {
      "text/plain": [
       "{1: [4, 4], 4: [1, 1]}"
      ]
     },
     "execution_count": 95,
     "metadata": {},
     "output_type": "execute_result"
    }
   ],
   "source": [
    "merge(G, 1, 2)"
   ]
  },
  {
   "cell_type": "markdown",
   "metadata": {},
   "source": [
    "最后的剩下的确实是最小割边。"
   ]
  },
  {
   "cell_type": "code",
   "execution_count": 119,
   "metadata": {},
   "outputs": [],
   "source": [
    "def merge(G, u, v):\n",
    "    \"\"\" 给定图 G 以及 G 中的两个顶点 u, v，\n",
    "    返回合并 u, v 后的新图 G. 输入的 G 是图的字典表示，键是顶点，值是列表表示所有与该顶点相连接的顶点。\"\"\"\n",
    "    G[u] = G[u] + G[v]\n",
    "    del G[v]\n",
    "        \n",
    "    for ver in G:\n",
    "        # 把所有 G 的 v 点标为 u\n",
    "        G[ver] = [u if x == v else x for x in G[ver]]\n",
    "    \n",
    "    # 删除自环\n",
    "    while u in G[u]:\n",
    "        G[u].remove(u)\n",
    "    return G"
   ]
  },
  {
   "cell_type": "markdown",
   "metadata": {},
   "source": [
    "第二种合并方式："
   ]
  },
  {
   "cell_type": "code",
   "execution_count": 51,
   "metadata": {},
   "outputs": [
    {
     "data": {
      "text/plain": [
       "{1: [2, 2, 4], 2: [1, 1, 4], 4: [2, 1]}"
      ]
     },
     "execution_count": 51,
     "metadata": {},
     "output_type": "execute_result"
    }
   ],
   "source": [
    "merge(G, 1, 3)"
   ]
  },
  {
   "cell_type": "code",
   "execution_count": 52,
   "metadata": {},
   "outputs": [
    {
     "data": {
      "text/plain": [
       "{1: [2, 2, 2], 2: [1, 1, 1]}"
      ]
     },
     "execution_count": 52,
     "metadata": {},
     "output_type": "execute_result"
    }
   ],
   "source": [
    "merge(G, 2, 4)"
   ]
  },
  {
   "cell_type": "markdown",
   "metadata": {},
   "source": [
    "最后的剩下的就不是最小割边。"
   ]
  },
  {
   "cell_type": "markdown",
   "metadata": {},
   "source": [
    "## 最终代码"
   ]
  },
  {
   "cell_type": "code",
   "execution_count": 7,
   "metadata": {},
   "outputs": [],
   "source": [
    "import random\n",
    "\n",
    "def merge(G, u, v):\n",
    "    \"\"\" 给定图 G 以及 G 中的两个顶点 u, v，\n",
    "    返回合并 u, v 后的新图 G. 输入的 G 是图的字典表示，键是顶点，值是列表表示所有与该顶点相连接的顶点。\"\"\"\n",
    "    G[u] = G[u] + G[v]\n",
    "    del G[v]\n",
    "        \n",
    "    for ver in G:\n",
    "        # 把所有 G 的 v 点标为 u\n",
    "        G[ver] = [u if x == v else x for x in G[ver]]\n",
    "    \n",
    "    # 删除自环\n",
    "    while u in G[u]:\n",
    "        G[u].remove(u)\n",
    "    return G\n",
    "\n",
    "def kargerMinCut(G):\n",
    "    \"\"\" 任给一个图 G，返回最终利用 Random Contraction Algorithm 得到的图 G.\"\"\"\n",
    "    while len(G) > 2:\n",
    "        v = random.choice(list(G.keys()))\n",
    "        u = random.choice(G[v])\n",
    "\n",
    "        merge(G, u, v)\n",
    "    return G"
   ]
  },
  {
   "cell_type": "markdown",
   "metadata": {},
   "source": [
    "Programming Assignment 3 的答案"
   ]
  },
  {
   "cell_type": "code",
   "execution_count": 44,
   "metadata": {},
   "outputs": [],
   "source": [
    "f = open('kargerMinCut.txt')\n",
    "GG = {}\n",
    "_f = list(f) \n",
    "for i in range(len(_f)):\n",
    "    s = _f[i].split()\n",
    "    GG[s[0]] = s[1:]"
   ]
  },
  {
   "cell_type": "code",
   "execution_count": 45,
   "metadata": {},
   "outputs": [
    {
     "name": "stdout",
     "output_type": "stream",
     "text": [
      "17\n"
     ]
    }
   ],
   "source": [
    "import copy\n",
    "\n",
    "A = []\n",
    "for i in range(2000):\n",
    "    G = GG.copy()\n",
    "    kargerMinCut(G)\n",
    "    A.append(len(list(G.values())[0]))\n",
    "print(min(A))    "
   ]
  }
 ],
 "metadata": {
  "kernelspec": {
   "display_name": "Python 3",
   "language": "python",
   "name": "python3"
  },
  "language_info": {
   "codemirror_mode": {
    "name": "ipython",
    "version": 3
   },
   "file_extension": ".py",
   "mimetype": "text/x-python",
   "name": "python",
   "nbconvert_exporter": "python",
   "pygments_lexer": "ipython3",
   "version": "3.7.1"
  },
  "toc": {
   "base_numbering": 1,
   "nav_menu": {},
   "number_sections": true,
   "sideBar": true,
   "skip_h1_title": false,
   "title_cell": "Table of Contents",
   "title_sidebar": "Contents",
   "toc_cell": false,
   "toc_position": {},
   "toc_section_display": true,
   "toc_window_display": false
  }
 },
 "nbformat": 4,
 "nbformat_minor": 2
}
